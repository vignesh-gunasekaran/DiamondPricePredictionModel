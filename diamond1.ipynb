{
 "metadata": {
  "language_info": {
   "codemirror_mode": {
    "name": "ipython",
    "version": 3
   },
   "file_extension": ".py",
   "mimetype": "text/x-python",
   "name": "python",
   "nbconvert_exporter": "python",
   "pygments_lexer": "ipython3",
   "version": "3.7.6-final"
  },
  "orig_nbformat": 2,
  "kernelspec": {
   "name": "python_defaultSpec_1597777360633",
   "display_name": "Python 3.7.6 64-bit ('base': conda)"
  }
 },
 "nbformat": 4,
 "nbformat_minor": 2,
 "cells": [
  {
   "cell_type": "code",
   "execution_count": 1,
   "metadata": {},
   "outputs": [],
   "source": [
    "import pandas as pd \n",
    "import numpy as np \n",
    "from sklearn.model_selection import train_test_split\n",
    "from sklearn.preprocessing import LabelEncoder\n",
    "from sklearn.linear_model import LinearRegression \n"
   ]
  },
  {
   "cell_type": "code",
   "execution_count": 2,
   "metadata": {},
   "outputs": [],
   "source": [
    "df = pd.read_csv(r\"G:\\machine learning\\Datasets\\diamond\\diamond.csv\")"
   ]
  },
  {
   "cell_type": "code",
   "execution_count": 3,
   "metadata": {},
   "outputs": [
    {
     "output_type": "execute_result",
     "data": {
      "text/plain": "       Unnamed: 0  carat        cut color clarity  depth  table  price     x  \\\n0               1   0.23      Ideal     E     SI2   61.5   55.0    326  3.95   \n1               2   0.21    Premium     E     SI1   59.8   61.0    326  3.89   \n2               3   0.23       Good     E     VS1   56.9   65.0    327  4.05   \n3               4   0.29    Premium     I     VS2   62.4   58.0    334  4.20   \n4               5   0.31       Good     J     SI2   63.3   58.0    335  4.34   \n...           ...    ...        ...   ...     ...    ...    ...    ...   ...   \n53935       53936   0.72      Ideal     D     SI1   60.8   57.0   2757  5.75   \n53936       53937   0.72       Good     D     SI1   63.1   55.0   2757  5.69   \n53937       53938   0.70  Very Good     D     SI1   62.8   60.0   2757  5.66   \n53938       53939   0.86    Premium     H     SI2   61.0   58.0   2757  6.15   \n53939       53940   0.75      Ideal     D     SI2   62.2   55.0   2757  5.83   \n\n          y     z  \n0      3.98  2.43  \n1      3.84  2.31  \n2      4.07  2.31  \n3      4.23  2.63  \n4      4.35  2.75  \n...     ...   ...  \n53935  5.76  3.50  \n53936  5.75  3.61  \n53937  5.68  3.56  \n53938  6.12  3.74  \n53939  5.87  3.64  \n\n[53940 rows x 11 columns]",
      "text/html": "<div>\n<style scoped>\n    .dataframe tbody tr th:only-of-type {\n        vertical-align: middle;\n    }\n\n    .dataframe tbody tr th {\n        vertical-align: top;\n    }\n\n    .dataframe thead th {\n        text-align: right;\n    }\n</style>\n<table border=\"1\" class=\"dataframe\">\n  <thead>\n    <tr style=\"text-align: right;\">\n      <th></th>\n      <th>Unnamed: 0</th>\n      <th>carat</th>\n      <th>cut</th>\n      <th>color</th>\n      <th>clarity</th>\n      <th>depth</th>\n      <th>table</th>\n      <th>price</th>\n      <th>x</th>\n      <th>y</th>\n      <th>z</th>\n    </tr>\n  </thead>\n  <tbody>\n    <tr>\n      <th>0</th>\n      <td>1</td>\n      <td>0.23</td>\n      <td>Ideal</td>\n      <td>E</td>\n      <td>SI2</td>\n      <td>61.5</td>\n      <td>55.0</td>\n      <td>326</td>\n      <td>3.95</td>\n      <td>3.98</td>\n      <td>2.43</td>\n    </tr>\n    <tr>\n      <th>1</th>\n      <td>2</td>\n      <td>0.21</td>\n      <td>Premium</td>\n      <td>E</td>\n      <td>SI1</td>\n      <td>59.8</td>\n      <td>61.0</td>\n      <td>326</td>\n      <td>3.89</td>\n      <td>3.84</td>\n      <td>2.31</td>\n    </tr>\n    <tr>\n      <th>2</th>\n      <td>3</td>\n      <td>0.23</td>\n      <td>Good</td>\n      <td>E</td>\n      <td>VS1</td>\n      <td>56.9</td>\n      <td>65.0</td>\n      <td>327</td>\n      <td>4.05</td>\n      <td>4.07</td>\n      <td>2.31</td>\n    </tr>\n    <tr>\n      <th>3</th>\n      <td>4</td>\n      <td>0.29</td>\n      <td>Premium</td>\n      <td>I</td>\n      <td>VS2</td>\n      <td>62.4</td>\n      <td>58.0</td>\n      <td>334</td>\n      <td>4.20</td>\n      <td>4.23</td>\n      <td>2.63</td>\n    </tr>\n    <tr>\n      <th>4</th>\n      <td>5</td>\n      <td>0.31</td>\n      <td>Good</td>\n      <td>J</td>\n      <td>SI2</td>\n      <td>63.3</td>\n      <td>58.0</td>\n      <td>335</td>\n      <td>4.34</td>\n      <td>4.35</td>\n      <td>2.75</td>\n    </tr>\n    <tr>\n      <th>...</th>\n      <td>...</td>\n      <td>...</td>\n      <td>...</td>\n      <td>...</td>\n      <td>...</td>\n      <td>...</td>\n      <td>...</td>\n      <td>...</td>\n      <td>...</td>\n      <td>...</td>\n      <td>...</td>\n    </tr>\n    <tr>\n      <th>53935</th>\n      <td>53936</td>\n      <td>0.72</td>\n      <td>Ideal</td>\n      <td>D</td>\n      <td>SI1</td>\n      <td>60.8</td>\n      <td>57.0</td>\n      <td>2757</td>\n      <td>5.75</td>\n      <td>5.76</td>\n      <td>3.50</td>\n    </tr>\n    <tr>\n      <th>53936</th>\n      <td>53937</td>\n      <td>0.72</td>\n      <td>Good</td>\n      <td>D</td>\n      <td>SI1</td>\n      <td>63.1</td>\n      <td>55.0</td>\n      <td>2757</td>\n      <td>5.69</td>\n      <td>5.75</td>\n      <td>3.61</td>\n    </tr>\n    <tr>\n      <th>53937</th>\n      <td>53938</td>\n      <td>0.70</td>\n      <td>Very Good</td>\n      <td>D</td>\n      <td>SI1</td>\n      <td>62.8</td>\n      <td>60.0</td>\n      <td>2757</td>\n      <td>5.66</td>\n      <td>5.68</td>\n      <td>3.56</td>\n    </tr>\n    <tr>\n      <th>53938</th>\n      <td>53939</td>\n      <td>0.86</td>\n      <td>Premium</td>\n      <td>H</td>\n      <td>SI2</td>\n      <td>61.0</td>\n      <td>58.0</td>\n      <td>2757</td>\n      <td>6.15</td>\n      <td>6.12</td>\n      <td>3.74</td>\n    </tr>\n    <tr>\n      <th>53939</th>\n      <td>53940</td>\n      <td>0.75</td>\n      <td>Ideal</td>\n      <td>D</td>\n      <td>SI2</td>\n      <td>62.2</td>\n      <td>55.0</td>\n      <td>2757</td>\n      <td>5.83</td>\n      <td>5.87</td>\n      <td>3.64</td>\n    </tr>\n  </tbody>\n</table>\n<p>53940 rows × 11 columns</p>\n</div>"
     },
     "metadata": {},
     "execution_count": 3
    }
   ],
   "source": [
    "df"
   ]
  },
  {
   "cell_type": "code",
   "execution_count": 4,
   "metadata": {},
   "outputs": [
    {
     "output_type": "execute_result",
     "data": {
      "text/plain": "Unnamed: 0    0\ncarat         0\ncut           0\ncolor         0\nclarity       0\ndepth         0\ntable         0\nprice         0\nx             0\ny             0\nz             0\ndtype: int64"
     },
     "metadata": {},
     "execution_count": 4
    }
   ],
   "source": [
    "df.isna().sum()"
   ]
  },
  {
   "cell_type": "code",
   "execution_count": 5,
   "metadata": {},
   "outputs": [
    {
     "output_type": "execute_result",
     "data": {
      "text/plain": "array(['Ideal', 'Premium', 'Good', 'Very Good', 'Fair'], dtype=object)"
     },
     "metadata": {},
     "execution_count": 5
    }
   ],
   "source": [
    "df.cut.unique()"
   ]
  },
  {
   "cell_type": "code",
   "execution_count": 6,
   "metadata": {},
   "outputs": [
    {
     "output_type": "execute_result",
     "data": {
      "text/plain": "array(['E', 'I', 'J', 'H', 'F', 'G', 'D'], dtype=object)"
     },
     "metadata": {},
     "execution_count": 6
    }
   ],
   "source": [
    "df.color.unique()"
   ]
  },
  {
   "cell_type": "code",
   "execution_count": 7,
   "metadata": {},
   "outputs": [
    {
     "output_type": "execute_result",
     "data": {
      "text/plain": "array(['SI2', 'SI1', 'VS1', 'VS2', 'VVS2', 'VVS1', 'I1', 'IF'],\n      dtype=object)"
     },
     "metadata": {},
     "execution_count": 7
    }
   ],
   "source": [
    "df.clarity.unique()"
   ]
  },
  {
   "cell_type": "code",
   "execution_count": 8,
   "metadata": {},
   "outputs": [
    {
     "output_type": "execute_result",
     "data": {
      "text/plain": "<bound method NDFrame.describe of        Unnamed: 0  carat        cut color clarity  depth  table  price     x  \\\n0               1   0.23      Ideal     E     SI2   61.5   55.0    326  3.95   \n1               2   0.21    Premium     E     SI1   59.8   61.0    326  3.89   \n2               3   0.23       Good     E     VS1   56.9   65.0    327  4.05   \n3               4   0.29    Premium     I     VS2   62.4   58.0    334  4.20   \n4               5   0.31       Good     J     SI2   63.3   58.0    335  4.34   \n...           ...    ...        ...   ...     ...    ...    ...    ...   ...   \n53935       53936   0.72      Ideal     D     SI1   60.8   57.0   2757  5.75   \n53936       53937   0.72       Good     D     SI1   63.1   55.0   2757  5.69   \n53937       53938   0.70  Very Good     D     SI1   62.8   60.0   2757  5.66   \n53938       53939   0.86    Premium     H     SI2   61.0   58.0   2757  6.15   \n53939       53940   0.75      Ideal     D     SI2   62.2   55.0   2757  5.83   \n\n          y     z  \n0      3.98  2.43  \n1      3.84  2.31  \n2      4.07  2.31  \n3      4.23  2.63  \n4      4.35  2.75  \n...     ...   ...  \n53935  5.76  3.50  \n53936  5.75  3.61  \n53937  5.68  3.56  \n53938  6.12  3.74  \n53939  5.87  3.64  \n\n[53940 rows x 11 columns]>"
     },
     "metadata": {},
     "execution_count": 8
    }
   ],
   "source": [
    "df.describe"
   ]
  },
  {
   "cell_type": "code",
   "execution_count": 9,
   "metadata": {},
   "outputs": [
    {
     "output_type": "execute_result",
     "data": {
      "text/plain": "       Unnamed: 0  carat        cut color clarity  depth  table  price     x  \\\n0               1   0.23      Ideal     E     SI2   61.5   55.0    326  3.95   \n1               2   0.21    Premium     E     SI1   59.8   61.0    326  3.89   \n2               3   0.23       Good     E     VS1   56.9   65.0    327  4.05   \n3               4   0.29    Premium     I     VS2   62.4   58.0    334  4.20   \n4               5   0.31       Good     J     SI2   63.3   58.0    335  4.34   \n...           ...    ...        ...   ...     ...    ...    ...    ...   ...   \n53935       53936   0.72      Ideal     D     SI1   60.8   57.0   2757  5.75   \n53936       53937   0.72       Good     D     SI1   63.1   55.0   2757  5.69   \n53937       53938   0.70  Very Good     D     SI1   62.8   60.0   2757  5.66   \n53938       53939   0.86    Premium     H     SI2   61.0   58.0   2757  6.15   \n53939       53940   0.75      Ideal     D     SI2   62.2   55.0   2757  5.83   \n\n          y     z  \n0      3.98  2.43  \n1      3.84  2.31  \n2      4.07  2.31  \n3      4.23  2.63  \n4      4.35  2.75  \n...     ...   ...  \n53935  5.76  3.50  \n53936  5.75  3.61  \n53937  5.68  3.56  \n53938  6.12  3.74  \n53939  5.87  3.64  \n\n[53940 rows x 11 columns]",
      "text/html": "<div>\n<style scoped>\n    .dataframe tbody tr th:only-of-type {\n        vertical-align: middle;\n    }\n\n    .dataframe tbody tr th {\n        vertical-align: top;\n    }\n\n    .dataframe thead th {\n        text-align: right;\n    }\n</style>\n<table border=\"1\" class=\"dataframe\">\n  <thead>\n    <tr style=\"text-align: right;\">\n      <th></th>\n      <th>Unnamed: 0</th>\n      <th>carat</th>\n      <th>cut</th>\n      <th>color</th>\n      <th>clarity</th>\n      <th>depth</th>\n      <th>table</th>\n      <th>price</th>\n      <th>x</th>\n      <th>y</th>\n      <th>z</th>\n    </tr>\n  </thead>\n  <tbody>\n    <tr>\n      <th>0</th>\n      <td>1</td>\n      <td>0.23</td>\n      <td>Ideal</td>\n      <td>E</td>\n      <td>SI2</td>\n      <td>61.5</td>\n      <td>55.0</td>\n      <td>326</td>\n      <td>3.95</td>\n      <td>3.98</td>\n      <td>2.43</td>\n    </tr>\n    <tr>\n      <th>1</th>\n      <td>2</td>\n      <td>0.21</td>\n      <td>Premium</td>\n      <td>E</td>\n      <td>SI1</td>\n      <td>59.8</td>\n      <td>61.0</td>\n      <td>326</td>\n      <td>3.89</td>\n      <td>3.84</td>\n      <td>2.31</td>\n    </tr>\n    <tr>\n      <th>2</th>\n      <td>3</td>\n      <td>0.23</td>\n      <td>Good</td>\n      <td>E</td>\n      <td>VS1</td>\n      <td>56.9</td>\n      <td>65.0</td>\n      <td>327</td>\n      <td>4.05</td>\n      <td>4.07</td>\n      <td>2.31</td>\n    </tr>\n    <tr>\n      <th>3</th>\n      <td>4</td>\n      <td>0.29</td>\n      <td>Premium</td>\n      <td>I</td>\n      <td>VS2</td>\n      <td>62.4</td>\n      <td>58.0</td>\n      <td>334</td>\n      <td>4.20</td>\n      <td>4.23</td>\n      <td>2.63</td>\n    </tr>\n    <tr>\n      <th>4</th>\n      <td>5</td>\n      <td>0.31</td>\n      <td>Good</td>\n      <td>J</td>\n      <td>SI2</td>\n      <td>63.3</td>\n      <td>58.0</td>\n      <td>335</td>\n      <td>4.34</td>\n      <td>4.35</td>\n      <td>2.75</td>\n    </tr>\n    <tr>\n      <th>...</th>\n      <td>...</td>\n      <td>...</td>\n      <td>...</td>\n      <td>...</td>\n      <td>...</td>\n      <td>...</td>\n      <td>...</td>\n      <td>...</td>\n      <td>...</td>\n      <td>...</td>\n      <td>...</td>\n    </tr>\n    <tr>\n      <th>53935</th>\n      <td>53936</td>\n      <td>0.72</td>\n      <td>Ideal</td>\n      <td>D</td>\n      <td>SI1</td>\n      <td>60.8</td>\n      <td>57.0</td>\n      <td>2757</td>\n      <td>5.75</td>\n      <td>5.76</td>\n      <td>3.50</td>\n    </tr>\n    <tr>\n      <th>53936</th>\n      <td>53937</td>\n      <td>0.72</td>\n      <td>Good</td>\n      <td>D</td>\n      <td>SI1</td>\n      <td>63.1</td>\n      <td>55.0</td>\n      <td>2757</td>\n      <td>5.69</td>\n      <td>5.75</td>\n      <td>3.61</td>\n    </tr>\n    <tr>\n      <th>53937</th>\n      <td>53938</td>\n      <td>0.70</td>\n      <td>Very Good</td>\n      <td>D</td>\n      <td>SI1</td>\n      <td>62.8</td>\n      <td>60.0</td>\n      <td>2757</td>\n      <td>5.66</td>\n      <td>5.68</td>\n      <td>3.56</td>\n    </tr>\n    <tr>\n      <th>53938</th>\n      <td>53939</td>\n      <td>0.86</td>\n      <td>Premium</td>\n      <td>H</td>\n      <td>SI2</td>\n      <td>61.0</td>\n      <td>58.0</td>\n      <td>2757</td>\n      <td>6.15</td>\n      <td>6.12</td>\n      <td>3.74</td>\n    </tr>\n    <tr>\n      <th>53939</th>\n      <td>53940</td>\n      <td>0.75</td>\n      <td>Ideal</td>\n      <td>D</td>\n      <td>SI2</td>\n      <td>62.2</td>\n      <td>55.0</td>\n      <td>2757</td>\n      <td>5.83</td>\n      <td>5.87</td>\n      <td>3.64</td>\n    </tr>\n  </tbody>\n</table>\n<p>53940 rows × 11 columns</p>\n</div>"
     },
     "metadata": {},
     "execution_count": 9
    }
   ],
   "source": [
    "df"
   ]
  },
  {
   "cell_type": "markdown",
   "metadata": {},
   "source": [
    "LABEL ENCODING"
   ]
  },
  {
   "cell_type": "code",
   "execution_count": 10,
   "metadata": {},
   "outputs": [],
   "source": [
    "le  = LabelEncoder()\n",
    "dfle = df\n",
    "dfle.cut = le.fit_transform(dfle.cut)\n",
    "dfle.color = le.fit_transform(dfle.color)\n",
    "dfle.clarity = le.fit_transform(dfle.clarity)"
   ]
  },
  {
   "cell_type": "code",
   "execution_count": 11,
   "metadata": {},
   "outputs": [
    {
     "output_type": "execute_result",
     "data": {
      "text/plain": "       Unnamed: 0  carat  cut  color  clarity  depth  table  price     x  \\\n0               1   0.23    2      1        3   61.5   55.0    326  3.95   \n1               2   0.21    3      1        2   59.8   61.0    326  3.89   \n2               3   0.23    1      1        4   56.9   65.0    327  4.05   \n3               4   0.29    3      5        5   62.4   58.0    334  4.20   \n4               5   0.31    1      6        3   63.3   58.0    335  4.34   \n...           ...    ...  ...    ...      ...    ...    ...    ...   ...   \n53935       53936   0.72    2      0        2   60.8   57.0   2757  5.75   \n53936       53937   0.72    1      0        2   63.1   55.0   2757  5.69   \n53937       53938   0.70    4      0        2   62.8   60.0   2757  5.66   \n53938       53939   0.86    3      4        3   61.0   58.0   2757  6.15   \n53939       53940   0.75    2      0        3   62.2   55.0   2757  5.83   \n\n          y     z  \n0      3.98  2.43  \n1      3.84  2.31  \n2      4.07  2.31  \n3      4.23  2.63  \n4      4.35  2.75  \n...     ...   ...  \n53935  5.76  3.50  \n53936  5.75  3.61  \n53937  5.68  3.56  \n53938  6.12  3.74  \n53939  5.87  3.64  \n\n[53940 rows x 11 columns]",
      "text/html": "<div>\n<style scoped>\n    .dataframe tbody tr th:only-of-type {\n        vertical-align: middle;\n    }\n\n    .dataframe tbody tr th {\n        vertical-align: top;\n    }\n\n    .dataframe thead th {\n        text-align: right;\n    }\n</style>\n<table border=\"1\" class=\"dataframe\">\n  <thead>\n    <tr style=\"text-align: right;\">\n      <th></th>\n      <th>Unnamed: 0</th>\n      <th>carat</th>\n      <th>cut</th>\n      <th>color</th>\n      <th>clarity</th>\n      <th>depth</th>\n      <th>table</th>\n      <th>price</th>\n      <th>x</th>\n      <th>y</th>\n      <th>z</th>\n    </tr>\n  </thead>\n  <tbody>\n    <tr>\n      <th>0</th>\n      <td>1</td>\n      <td>0.23</td>\n      <td>2</td>\n      <td>1</td>\n      <td>3</td>\n      <td>61.5</td>\n      <td>55.0</td>\n      <td>326</td>\n      <td>3.95</td>\n      <td>3.98</td>\n      <td>2.43</td>\n    </tr>\n    <tr>\n      <th>1</th>\n      <td>2</td>\n      <td>0.21</td>\n      <td>3</td>\n      <td>1</td>\n      <td>2</td>\n      <td>59.8</td>\n      <td>61.0</td>\n      <td>326</td>\n      <td>3.89</td>\n      <td>3.84</td>\n      <td>2.31</td>\n    </tr>\n    <tr>\n      <th>2</th>\n      <td>3</td>\n      <td>0.23</td>\n      <td>1</td>\n      <td>1</td>\n      <td>4</td>\n      <td>56.9</td>\n      <td>65.0</td>\n      <td>327</td>\n      <td>4.05</td>\n      <td>4.07</td>\n      <td>2.31</td>\n    </tr>\n    <tr>\n      <th>3</th>\n      <td>4</td>\n      <td>0.29</td>\n      <td>3</td>\n      <td>5</td>\n      <td>5</td>\n      <td>62.4</td>\n      <td>58.0</td>\n      <td>334</td>\n      <td>4.20</td>\n      <td>4.23</td>\n      <td>2.63</td>\n    </tr>\n    <tr>\n      <th>4</th>\n      <td>5</td>\n      <td>0.31</td>\n      <td>1</td>\n      <td>6</td>\n      <td>3</td>\n      <td>63.3</td>\n      <td>58.0</td>\n      <td>335</td>\n      <td>4.34</td>\n      <td>4.35</td>\n      <td>2.75</td>\n    </tr>\n    <tr>\n      <th>...</th>\n      <td>...</td>\n      <td>...</td>\n      <td>...</td>\n      <td>...</td>\n      <td>...</td>\n      <td>...</td>\n      <td>...</td>\n      <td>...</td>\n      <td>...</td>\n      <td>...</td>\n      <td>...</td>\n    </tr>\n    <tr>\n      <th>53935</th>\n      <td>53936</td>\n      <td>0.72</td>\n      <td>2</td>\n      <td>0</td>\n      <td>2</td>\n      <td>60.8</td>\n      <td>57.0</td>\n      <td>2757</td>\n      <td>5.75</td>\n      <td>5.76</td>\n      <td>3.50</td>\n    </tr>\n    <tr>\n      <th>53936</th>\n      <td>53937</td>\n      <td>0.72</td>\n      <td>1</td>\n      <td>0</td>\n      <td>2</td>\n      <td>63.1</td>\n      <td>55.0</td>\n      <td>2757</td>\n      <td>5.69</td>\n      <td>5.75</td>\n      <td>3.61</td>\n    </tr>\n    <tr>\n      <th>53937</th>\n      <td>53938</td>\n      <td>0.70</td>\n      <td>4</td>\n      <td>0</td>\n      <td>2</td>\n      <td>62.8</td>\n      <td>60.0</td>\n      <td>2757</td>\n      <td>5.66</td>\n      <td>5.68</td>\n      <td>3.56</td>\n    </tr>\n    <tr>\n      <th>53938</th>\n      <td>53939</td>\n      <td>0.86</td>\n      <td>3</td>\n      <td>4</td>\n      <td>3</td>\n      <td>61.0</td>\n      <td>58.0</td>\n      <td>2757</td>\n      <td>6.15</td>\n      <td>6.12</td>\n      <td>3.74</td>\n    </tr>\n    <tr>\n      <th>53939</th>\n      <td>53940</td>\n      <td>0.75</td>\n      <td>2</td>\n      <td>0</td>\n      <td>3</td>\n      <td>62.2</td>\n      <td>55.0</td>\n      <td>2757</td>\n      <td>5.83</td>\n      <td>5.87</td>\n      <td>3.64</td>\n    </tr>\n  </tbody>\n</table>\n<p>53940 rows × 11 columns</p>\n</div>"
     },
     "metadata": {},
     "execution_count": 11
    }
   ],
   "source": [
    "dfle"
   ]
  },
  {
   "cell_type": "markdown",
   "metadata": {},
   "source": [
    "INDEPENDANT AND DEPENDANT VARIABLE"
   ]
  },
  {
   "cell_type": "code",
   "execution_count": 12,
   "metadata": {},
   "outputs": [],
   "source": [
    "X = df.iloc[:,[1,2,3,4,5,6,8,9,10]]"
   ]
  },
  {
   "cell_type": "code",
   "execution_count": 13,
   "metadata": {},
   "outputs": [
    {
     "output_type": "execute_result",
     "data": {
      "text/plain": "       carat  cut  color  clarity  depth  table     x     y     z\n0       0.23    2      1        3   61.5   55.0  3.95  3.98  2.43\n1       0.21    3      1        2   59.8   61.0  3.89  3.84  2.31\n2       0.23    1      1        4   56.9   65.0  4.05  4.07  2.31\n3       0.29    3      5        5   62.4   58.0  4.20  4.23  2.63\n4       0.31    1      6        3   63.3   58.0  4.34  4.35  2.75\n...      ...  ...    ...      ...    ...    ...   ...   ...   ...\n53935   0.72    2      0        2   60.8   57.0  5.75  5.76  3.50\n53936   0.72    1      0        2   63.1   55.0  5.69  5.75  3.61\n53937   0.70    4      0        2   62.8   60.0  5.66  5.68  3.56\n53938   0.86    3      4        3   61.0   58.0  6.15  6.12  3.74\n53939   0.75    2      0        3   62.2   55.0  5.83  5.87  3.64\n\n[53940 rows x 9 columns]",
      "text/html": "<div>\n<style scoped>\n    .dataframe tbody tr th:only-of-type {\n        vertical-align: middle;\n    }\n\n    .dataframe tbody tr th {\n        vertical-align: top;\n    }\n\n    .dataframe thead th {\n        text-align: right;\n    }\n</style>\n<table border=\"1\" class=\"dataframe\">\n  <thead>\n    <tr style=\"text-align: right;\">\n      <th></th>\n      <th>carat</th>\n      <th>cut</th>\n      <th>color</th>\n      <th>clarity</th>\n      <th>depth</th>\n      <th>table</th>\n      <th>x</th>\n      <th>y</th>\n      <th>z</th>\n    </tr>\n  </thead>\n  <tbody>\n    <tr>\n      <th>0</th>\n      <td>0.23</td>\n      <td>2</td>\n      <td>1</td>\n      <td>3</td>\n      <td>61.5</td>\n      <td>55.0</td>\n      <td>3.95</td>\n      <td>3.98</td>\n      <td>2.43</td>\n    </tr>\n    <tr>\n      <th>1</th>\n      <td>0.21</td>\n      <td>3</td>\n      <td>1</td>\n      <td>2</td>\n      <td>59.8</td>\n      <td>61.0</td>\n      <td>3.89</td>\n      <td>3.84</td>\n      <td>2.31</td>\n    </tr>\n    <tr>\n      <th>2</th>\n      <td>0.23</td>\n      <td>1</td>\n      <td>1</td>\n      <td>4</td>\n      <td>56.9</td>\n      <td>65.0</td>\n      <td>4.05</td>\n      <td>4.07</td>\n      <td>2.31</td>\n    </tr>\n    <tr>\n      <th>3</th>\n      <td>0.29</td>\n      <td>3</td>\n      <td>5</td>\n      <td>5</td>\n      <td>62.4</td>\n      <td>58.0</td>\n      <td>4.20</td>\n      <td>4.23</td>\n      <td>2.63</td>\n    </tr>\n    <tr>\n      <th>4</th>\n      <td>0.31</td>\n      <td>1</td>\n      <td>6</td>\n      <td>3</td>\n      <td>63.3</td>\n      <td>58.0</td>\n      <td>4.34</td>\n      <td>4.35</td>\n      <td>2.75</td>\n    </tr>\n    <tr>\n      <th>...</th>\n      <td>...</td>\n      <td>...</td>\n      <td>...</td>\n      <td>...</td>\n      <td>...</td>\n      <td>...</td>\n      <td>...</td>\n      <td>...</td>\n      <td>...</td>\n    </tr>\n    <tr>\n      <th>53935</th>\n      <td>0.72</td>\n      <td>2</td>\n      <td>0</td>\n      <td>2</td>\n      <td>60.8</td>\n      <td>57.0</td>\n      <td>5.75</td>\n      <td>5.76</td>\n      <td>3.50</td>\n    </tr>\n    <tr>\n      <th>53936</th>\n      <td>0.72</td>\n      <td>1</td>\n      <td>0</td>\n      <td>2</td>\n      <td>63.1</td>\n      <td>55.0</td>\n      <td>5.69</td>\n      <td>5.75</td>\n      <td>3.61</td>\n    </tr>\n    <tr>\n      <th>53937</th>\n      <td>0.70</td>\n      <td>4</td>\n      <td>0</td>\n      <td>2</td>\n      <td>62.8</td>\n      <td>60.0</td>\n      <td>5.66</td>\n      <td>5.68</td>\n      <td>3.56</td>\n    </tr>\n    <tr>\n      <th>53938</th>\n      <td>0.86</td>\n      <td>3</td>\n      <td>4</td>\n      <td>3</td>\n      <td>61.0</td>\n      <td>58.0</td>\n      <td>6.15</td>\n      <td>6.12</td>\n      <td>3.74</td>\n    </tr>\n    <tr>\n      <th>53939</th>\n      <td>0.75</td>\n      <td>2</td>\n      <td>0</td>\n      <td>3</td>\n      <td>62.2</td>\n      <td>55.0</td>\n      <td>5.83</td>\n      <td>5.87</td>\n      <td>3.64</td>\n    </tr>\n  </tbody>\n</table>\n<p>53940 rows × 9 columns</p>\n</div>"
     },
     "metadata": {},
     "execution_count": 13
    }
   ],
   "source": [
    "X"
   ]
  },
  {
   "cell_type": "code",
   "execution_count": 14,
   "metadata": {},
   "outputs": [
    {
     "output_type": "execute_result",
     "data": {
      "text/plain": "0         326\n1         326\n2         327\n3         334\n4         335\n         ... \n53935    2757\n53936    2757\n53937    2757\n53938    2757\n53939    2757\nName: price, Length: 53940, dtype: int64"
     },
     "metadata": {},
     "execution_count": 14
    }
   ],
   "source": [
    "y = df.iloc[:,7]\n",
    "y"
   ]
  },
  {
   "cell_type": "markdown",
   "metadata": {},
   "source": [
    "TRAIN TEST SPLIT"
   ]
  },
  {
   "cell_type": "code",
   "execution_count": 15,
   "metadata": {},
   "outputs": [
    {
     "output_type": "execute_result",
     "data": {
      "text/plain": "LinearRegression(copy_X=True, fit_intercept=True, n_jobs=None, normalize=False)"
     },
     "metadata": {},
     "execution_count": 15
    }
   ],
   "source": [
    "X_train,X_test,y_train,y_test = train_test_split(X,y,test_size=0.3,random_state=0)\n",
    "ln = LinearRegression()\n",
    "ln.fit(X_train,y_train)"
   ]
  },
  {
   "cell_type": "code",
   "execution_count": 16,
   "metadata": {},
   "outputs": [
    {
     "output_type": "execute_result",
     "data": {
      "text/plain": "0.8868475736248008"
     },
     "metadata": {},
     "execution_count": 16
    }
   ],
   "source": [
    "\n",
    "ln.score(X_test,y_test)"
   ]
  },
  {
   "cell_type": "markdown",
   "metadata": {},
   "source": [
    "CROSS VALIDATING WITH ALL ALGOS "
   ]
  },
  {
   "cell_type": "code",
   "execution_count": 17,
   "metadata": {},
   "outputs": [],
   "source": [
    "from sklearn.svm import SVR\n",
    "from sklearn.ensemble import RandomForestRegressor\n",
    "from sklearn.tree import DecisionTreeRegressor\n",
    "from sklearn.model_selection import cross_val_score\n",
    "from sklearn.model_selection import ShuffleSplit"
   ]
  },
  {
   "cell_type": "code",
   "execution_count": 145,
   "metadata": {},
   "outputs": [],
   "source": []
  },
  {
   "cell_type": "markdown",
   "metadata": {},
   "source": [
    "LINEAR REGRESSION ACCURACY\n"
   ]
  },
  {
   "cell_type": "code",
   "execution_count": 18,
   "metadata": {
    "tags": []
   },
   "outputs": [
    {
     "output_type": "execute_result",
     "data": {
      "text/plain": "0.8840000881398516"
     },
     "metadata": {},
     "execution_count": 18
    }
   ],
   "source": [
    "\n",
    "cv = ShuffleSplit(n_splits=10,test_size=0.30,random_state=0)\n",
    "\n",
    "final = cross_val_score(LinearRegression(),X,y,cv=cv)\n",
    "final\n",
    "\n",
    "\n",
    "def get_best_score(total,N):\n",
    "    best_score = (total[0] + total[1] + total[2] + total[3] + total[4] +total[5] +total[6] + total[7] + total[8] + total[9])/N\n",
    "    return best_score\n",
    "get_best_score(final,10)\n",
    "\n",
    "\n"
   ]
  },
  {
   "cell_type": "code",
   "execution_count": 24,
   "metadata": {},
   "outputs": [
    {
     "output_type": "execute_result",
     "data": {
      "text/plain": "0.9638892359328193"
     },
     "metadata": {},
     "execution_count": 24
    }
   ],
   "source": [
    "cv = ShuffleSplit(n_splits=10,test_size=0.30,random_state=0)\n",
    "\n",
    "final = cross_val_score(DecisionTreeRegressor(),X,y,cv=cv)\n",
    "final\n",
    "\n",
    "\n",
    "def get_best_score(total,N):\n",
    "    best_score = (total[0] + total[1] + total[2] + total[3] + total[4] +total[5] +total[6] + total[7] + total[8] + total[9])/N\n",
    "    return best_score\n",
    "get_best_score(final,10)"
   ]
  },
  {
   "cell_type": "code",
   "execution_count": 25,
   "metadata": {},
   "outputs": [
    {
     "output_type": "execute_result",
     "data": {
      "text/plain": "0.9805266521772905"
     },
     "metadata": {},
     "execution_count": 25
    }
   ],
   "source": [
    "cv = ShuffleSplit(n_splits=10,test_size=0.30,random_state=0)\n",
    "\n",
    "final = cross_val_score(RandomForestRegressor(),X,y,cv=cv)\n",
    "final\n",
    "\n",
    "\n",
    "def get_best_score(total,N):\n",
    "    best_score = (total[0] + total[1] + total[2] + total[3] + total[4] +total[5] +total[6] + total[7] + total[8] + total[9])/N\n",
    "    return best_score\n",
    "get_best_score(final,10)"
   ]
  }
 ]
}